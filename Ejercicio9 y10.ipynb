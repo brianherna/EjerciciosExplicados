{
 "cells": [
  {
   "cell_type": "code",
   "execution_count": 7,
   "metadata": {},
   "outputs": [],
   "source": [
    "import math as mat"
   ]
  },
  {
   "cell_type": "markdown",
   "metadata": {},
   "source": [
    "# Ejercicio 9 y 10"
   ]
  },
  {
   "cell_type": "markdown",
   "metadata": {},
   "source": [
    "# Ejercicio 9\n",
    "\n",
    "Sólo para practicar. Los números telefónicos en la ciudad de Cuernavaca, Morelos, constan de\n",
    "siete dígitos.\n",
    "\n",
    "\n",
    "a) ¿Cuántas líneas telefónicas pueden crearse en esa ciudad? Recuerda que no pueden comen-\n",
    "zar con cero.\n",
    "\n",
    "Vamos a analizar el problema\n",
    "\n",
    "- Los numeros deben de tener 7 diguitos \n",
    "\n",
    "- Los numeros no pueden empezar en 0. \n",
    "\n",
    " Por lo tanto el primer numero va a poder ser cualquier numero entre el 1 al 9 \n",
    " \n",
    " - (hay 9 posibilidades para cada uno)\n",
    " \n",
    " \n",
    "La formula que estaremos usando para calcular el numero de lineas telefonicas es la siguinente:\n",
    " \n",
    " $$\\text{Número de líneas telefónicas} = \\text{Número de posibilidades para el primer dígito} \\times \\text{Número de posibilidades para cada uno de los siguientes 6 dígitos}$$\n",
    " \n",
    "\n",
    "<font size=\"3\"> Vamos a sustituir los valores en nuestra formula al sustituir los valores podemos determinar que:</font>\n",
    "\n",
    "$$\\text{Número de líneas telefónicas} = 9 \\times 10^6$$\n",
    "$$\\text{ Resultado Número de líneas telefónicas} = 9,000,000$$\n",
    "\n",
    "<font size=\"3\"> Como resultado, obtenemos que el numero total de lineas telefoicas que vamos a poder crear es de **9,000,000**</font>\n"
   ]
  },
  {
   "cell_type": "code",
   "execution_count": 2,
   "metadata": {},
   "outputs": [
    {
     "name": "stdout",
     "output_type": "stream",
     "text": [
      "a) El numero de lineas telefonicas que podemos crear en Cuernavaca, Morelos es de:  9000000\n"
     ]
    }
   ],
   "source": [
    "# Implementacion de la solucion del inciso a) del ejercicio 9\n",
    "\n",
    "primer_digito_posibilidades = 9  \n",
    "    \n",
    "# Cantidad de posibilidades para los siguientes diguitos  (0 a 9)\n",
    "otros_digitos_posibilidades = 10  \n",
    "    \n",
    "Total_de_posibilidades = primer_digito_posibilidades * otros_digitos_posibilidades ** 6\n",
    "print(f\"a) El numero de lineas telefonicas que podemos crear en Cuernavaca, Morelos es de: \" , Total_de_posibilidades )"
   ]
  },
  {
   "cell_type": "markdown",
   "metadata": {},
   "source": [
    "b) Si los tres primeros dígitos representan una zona de Cuernavaca, ¿cuántas líneas telefónicas\n",
    "pertenecen a la zona 326?\n",
    "\n",
    "- Los tres primeros digitos de los numeros telefonicos en la zona 326 estan fijos y son 3, 2, 6.\n",
    "\n",
    "- Los ultimos cuatro diguitos pueden ser cualquier numero del 0 al 9.\n",
    "(10 posibilidades para cada uno de los cuatro dijitos).\n",
    "\n",
    "\n",
    "Para calcular el numero total de lineas telefonicas posibles que hay en la zona 326:\n",
    " \n",
    "- Vamos a multiplicar el numero de opciones para cada uno de los cuatro digitos.\n",
    "\n",
    "  $$  {opcion10 (cuarto dígito)} \\  \\times  \\text{opcion10  (quinto dígito)}  \\times  \\text{opcion10  (sexto dígito)}  \\times \\text{opcion10  (séptimo dígito})$$\n",
    "\n",
    "$$ 10^4 = 10,000$$\n",
    "\n",
    "Por lo tanto hay **10,000** lineas telefonicas que podemos crear para la zona 326 en cuernavaca"
   ]
  },
  {
   "cell_type": "code",
   "execution_count": 3,
   "metadata": {},
   "outputs": [
    {
     "name": "stdout",
     "output_type": "stream",
     "text": [
      "b) El numero total de linesa que pertenecen a cuernavaca y que se pueden crear es de:  10000\n"
     ]
    }
   ],
   "source": [
    "# Implementacion de la solucion del inciso a) del ejercicio 9\n",
    "\n",
    "#Numeros del 0 al 9\n",
    "Otros_Digitos = 10\n",
    "\n",
    "Total = Otros_Digitos ** 4\n",
    "print(f\"b) El numero total de linesa que pertenecen a cuernavaca y que se pueden crear es de: \" , Total)"
   ]
  },
  {
   "cell_type": "markdown",
   "metadata": {},
   "source": [
    "# Ejercicio 10 \n",
    "\n",
    "Sólo para practicar. Se tiene la palabra MURCIÉLAGO. Si no se permiten repeticiones al usar\n",
    "las letras que la forman, determina:\n",
    "\n",
    "a) El número de palabras que puedes crear.\n",
    "\n",
    "- La palabra \"MURCIÉLAGO\" tiene 10 letras distintas.\n",
    "\n",
    "- Po lo tanto la cantidad de palabras que vamos a poder formar con 10 letras si que se repitan es por medio de la multiplicacion \n",
    "\n",
    "$$10 \\times 9 \\times 8 \\times 7 \\times 6 \\times 5 \\times 4 \\times 3 \\times 2 \\times 1$$\n",
    "- Esta operacion se le conoce como factorial y se representa como: </font> $$10!$$\n",
    "\n",
    "- Por lo tanto la cantidad de palabras que se puede formar es de **3,628,800**"
   ]
  },
  {
   "cell_type": "code",
   "execution_count": 4,
   "metadata": {},
   "outputs": [
    {
     "name": "stdout",
     "output_type": "stream",
     "text": [
      "a) La palabras que podemos formar son: 3628800\n"
     ]
    }
   ],
   "source": [
    "# Implementacion de la solucion del inciso a) del ejercicio 10\n",
    "letras = 10\n",
    "Palabra = mat.factorial(letras)\n",
    "print(f\"a) La palabras que podemos formar son: {Palabra}\")"
   ]
  },
  {
   "cell_type": "markdown",
   "metadata": {},
   "source": [
    "b) El número de palabras con cinco letras.\n",
    "\n",
    "- Para resolver lo que nos pide el inciso b vamos a usar la misma logica que el inciso anterior solo que ahora nos pide formar palabras con 5 letras \n",
    "\n",
    "- Por lo tanto el metodo que usaremos nuevamente sera la multiplicacion\n",
    "$$10 \\times 9 \\times 8 \\times 7 \\times 6 = 30,240$$\n",
    "\n",
    "- Por lo tanto la cantidad de palabras que se pueden formar con **5** letras es de **30,240**"
   ]
  },
  {
   "cell_type": "code",
   "execution_count": 5,
   "metadata": {},
   "outputs": [
    {
     "name": "stdout",
     "output_type": "stream",
     "text": [
      "b) Las palabras que se pueden formar con 5 letras son:  30240\n"
     ]
    }
   ],
   "source": [
    "# Implementacion de la solucion del inciso b) del ejercicio 10\n",
    "\n",
    "# Tamaño \n",
    "numeroLetras = len('MURCIÉLAGO')\n",
    "vocales = 5\n",
    "numeroPalabras5Letras = mat.perm(numeroLetras, 5)\n",
    "print(\"b) Las palabras que se pueden formar con 5 letras son: \", numeroPalabras5Letras)"
   ]
  },
  {
   "cell_type": "markdown",
   "metadata": {},
   "source": [
    "c) La probabilidad de que una palabra de cinco letras termine en vocal."
   ]
  },
  {
   "cell_type": "code",
   "execution_count": 6,
   "metadata": {},
   "outputs": [
    {
     "name": "stdout",
     "output_type": "stream",
     "text": [
      "c) La probabilidad de que una palabra de 5 letras termine en vocal es : 0.50000\n"
     ]
    }
   ],
   "source": [
    "# Implementacion de la solucion del inciso c) del ejercicio 10\n",
    "\n",
    "# Calcular la permutacion de las 9 letras que tomamos de 4 en 4\n",
    "Permutacion_9_4 = mat.factorial(9) // mat.factorial(5)\n",
    "\n",
    "#Calcular la cantidad de casos favorables\n",
    "Casos_Favorables = 5 * Permutacion_9_4 \n",
    "\n",
    "#Calcular la permutacion de 1o letras que tomamos de 5 en 5\n",
    "Permutacion_10_5 = mat.factorial(10) // mat.factorial(5)\n",
    "\n",
    "#Calculamos la probabilidad\n",
    "Probabilidad = Casos_Favorables / Permutacion_10_5 \n",
    "\n",
    "print(f\"c) La probabilidad de que una palabra de 5 letras termine en vocal es : {Probabilidad:.5f}\")"
   ]
  }
 ],
 "metadata": {
  "kernelspec": {
   "display_name": "Python 3",
   "language": "python",
   "name": "python3"
  },
  "language_info": {
   "codemirror_mode": {
    "name": "ipython",
    "version": 3
   },
   "file_extension": ".py",
   "mimetype": "text/x-python",
   "name": "python",
   "nbconvert_exporter": "python",
   "pygments_lexer": "ipython3",
   "version": "3.12.4"
  }
 },
 "nbformat": 4,
 "nbformat_minor": 2
}
