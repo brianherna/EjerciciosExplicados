{
 "cells": [
  {
   "cell_type": "code",
   "execution_count": 2,
   "metadata": {},
   "outputs": [],
   "source": [
    "import math as mat"
   ]
  },
  {
   "cell_type": "markdown",
   "metadata": {},
   "source": [
    "## Ejercicio 15 y 16"
   ]
  },
  {
   "cell_type": "markdown",
   "metadata": {},
   "source": [
    "# Ejercicio 15\n",
    "Futbol.Tres parejas (tres hombres y tres mujeres) compran boletos para ir a un partido de los\n",
    "Pumas. Cuando llegan al estadio de Ciudad Universitaria les surge la duda de cómo sentarse en\n",
    "la fila. ¿De cuántas maneras pueden hacerlo si:\n",
    "\n",
    "a) No hay restricciones?"
   ]
  },
  {
   "cell_type": "markdown",
   "metadata": {},
   "source": [
    "Como hay 6 personas (3 hombres y 3 mujeres) los cuales se pueden sentar sin restrincciones,\n",
    "aplicamos el uso de permutaciones:\n",
    "$$\n",
    "\\begin{align}\n",
    "    _nP_r &= \\dfrac{n!}{(n - r)!}\\\\\n",
    "    _6P_6 &= \\dfrac{6!}{(6 - 6)!}\\\\\n",
    "    _6P_6 &= \\dfrac{6 * 5 * 4 * 3 * 2 * 1}{0!} \\\\\n",
    "    _6P_6 &= \\dfrac{720}{1}\\\\\n",
    "    _6P_6 &= 720\n",
    "\\end{align} \n",
    "$$"
   ]
  },
  {
   "cell_type": "code",
   "execution_count": 3,
   "metadata": {},
   "outputs": [
    {
     "name": "stdout",
     "output_type": "stream",
     "text": [
      "Sin restricciones:  720\n"
     ]
    }
   ],
   "source": [
    "# Implementacion de la solucion del inciso a) del ejercicio 15\n",
    "num_personas = 6\n",
    "cant_maneras_a = mat.factorial(num_personas)\n",
    "print(\"Sin restricciones: \", cant_maneras_a)"
   ]
  },
  {
   "cell_type": "markdown",
   "metadata": {},
   "source": [
    "b) Los hombres deben sentarse juntos?\n",
    "\n",
    "Si enumeramos los asientos de izquierda a derecha del 1 a 6 como son tres hombres pueden ir en los asientos de la siguiente forma:\n",
    "\n",
    "\n",
    "Del 1 al 3, del 2 al 4, del 3 al 5 y del 4 al 6 \n",
    "\n",
    "Esto nos da 4 opciones, por lo que fijamos el lugar donde van los 3 hombres al permutarlos \n",
    "tenemos permutaciones de 3 en 3, luego en los asientos restantes se permutan a las mujeres; \n",
    "como hay 4 maneras de fijar a los hombres multiplicamos por 4.\n",
    "\n",
    "$$\n",
    "\\begin{align}\n",
    "4 \\times 3!\\times 3!\\\\\n",
    "4 \\times (3\\times  2 \\times 1)\\times (3 \\times  2 \\times 1)\\\\\n",
    "4 \\times 6\\times 6 &= 144\n",
    "\\end{align}\n",
    "$$"
   ]
  },
  {
   "cell_type": "code",
   "execution_count": 4,
   "metadata": {},
   "outputs": [
    {
     "name": "stdout",
     "output_type": "stream",
     "text": [
      "Hombres juntos:  144\n"
     ]
    }
   ],
   "source": [
    "# Implementacion de la solucion del inciso b) del ejercicio 15\n",
    "num_mujeres = 3\n",
    "num_hombres = 3\n",
    "cant_maneras_b = 4 * mat.factorial(num_mujeres) * mat.factorial(num_hombres)\n",
    "print(\"Hombres juntos: \",cant_maneras_b )"
   ]
  },
  {
   "cell_type": "markdown",
   "metadata": {},
   "source": [
    "c) Deben sentarse por parejas?\n",
    "\n",
    "Tenemos a las 3 parejas que el total son 6 personas:\n",
    "Se calcula de cuántas formas se pueden ordenar las 3 parejas. Esto es una permutación, por lo que hay 3! = 6 formas \n",
    "\n",
    "$$\n",
    "\\begin{align}\n",
    "    _nP_r &= \\dfrac{n!}{(n - r)!}\\\\\n",
    "    _3P_3 &= \\dfrac{3!}{(3 - 3)!}\\\\\n",
    "    _3P_3 &= \\dfrac{3 * 2 * 1}{0!} \\\\\n",
    "    _3P_3 &= \\dfrac{6}{1}\\\\\n",
    "    _3P_3 &= 6\n",
    "\\end{align} \n",
    "$$\n",
    "\n",
    "Para cada una de esas 6 ordenaciones de las parejas, se considero cómo se pueden sentar los integrantes de cada pareja, dentro de cada pareja, los dos miembros pueden sentarse de 2 formas diferentes (hombre-mujer o mujer-hombre).\n",
    "Entonces, para cada una de las 6 ordenaciones de las parejas hay:\n",
    "\n",
    "$$\n",
    "\\begin{align}\n",
    "2^{3} = 8  \n",
    "\\end{align} \n",
    "$$\n",
    "\n",
    "Esas 8 formas se multiplica con 6 ordenaciones:\n",
    "\n",
    "$$\n",
    "\\begin{align}\n",
    "8 \\times 6 &= 48\n",
    "\\end{align}\n",
    "$$"
   ]
  },
  {
   "cell_type": "code",
   "execution_count": 5,
   "metadata": {},
   "outputs": [
    {
     "name": "stdout",
     "output_type": "stream",
     "text": [
      "Por pareja:  48\n"
     ]
    }
   ],
   "source": [
    "# Implementacion de la solucion del inciso c) del ejercicio 15\n",
    "num_pares = 3\n",
    "cant_maneras_c = mat.factorial(num_pares) * 2**num_pares\n",
    "print(\"Por pareja: \", cant_maneras_c)"
   ]
  },
  {
   "cell_type": "markdown",
   "metadata": {},
   "source": [
    "d) ¿Cuál es la probabilidad de cada uno de los eventos descritos en los incisos anteriores?\n",
    "\n",
    "La probabilidad se obtine de los casos favorables / caso total, entonces:\n",
    "\n",
    "$$\n",
    "\\begin{align}\n",
    "    \\dfrac{720}{720} &= 1\\\\\n",
    "    \\dfrac{144}{720} &= 0.2\\\\\n",
    "    \\dfrac{48}{720} &= 0.06\\\\\n",
    "\\end{align} \n",
    "$$\n"
   ]
  },
  {
   "cell_type": "code",
   "execution_count": 6,
   "metadata": {},
   "outputs": [
    {
     "name": "stdout",
     "output_type": "stream",
     "text": [
      "Probabilidad: \n",
      "1.0 , 0.2 , 0.06666666666666667\n"
     ]
    }
   ],
   "source": [
    "# Implementacion de la solucion del inciso d) del ejercicio 15\n",
    "total_p = cant_maneras_a\n",
    "p_a = cant_maneras_a / total_p \n",
    "p_b = cant_maneras_b / total_p \n",
    "p_c = cant_maneras_c / total_p \n",
    "print(\"Probabilidad: \")\n",
    "print(p_a, \",\", p_b, \",\", p_c)"
   ]
  },
  {
   "cell_type": "markdown",
   "metadata": {},
   "source": [
    "# Ejercicio 16\n",
    "Trabajo en equipo.En un grupo de 25 alumnos hay 13 chicas y 12 chicos. Se desean formar\n",
    "equipos de trabajo para realizar una investigación:\n",
    "\n",
    "\n",
    "a) ¿Cuántos equipos de cinco personas pueden formarse?\n",
    "\n",
    "Dado que tenemos 25 alumnos los cuales tienen que trabajar en equipo de 5, aplicacmos la formula de combinaciones  :\n",
    "$$\n",
    "\\begin{align}\n",
    "    _nC_r &= \\dfrac{n!}{r!(n - r)!}\\\\\n",
    "    _25C_5 &= \\dfrac{25!}{5!(25 - 5)!}\\\\\n",
    "    _25C_5 &= \\dfrac{25!}{20! * 5!} \\\\\n",
    "    _25C_5 &= \\dfrac{6,375,600}{120}\\\\\n",
    "    _25C_5 &= 53130\n",
    "\\end{align} \n",
    "$$"
   ]
  },
  {
   "cell_type": "code",
   "execution_count": 7,
   "metadata": {},
   "outputs": [
    {
     "name": "stdout",
     "output_type": "stream",
     "text": [
      "Equipo de cinco personas:  53130\n"
     ]
    }
   ],
   "source": [
    "# Implementacion de la solucion del inciso a) del ejercicio 16\n",
    "\n",
    "num_alumnos = 25\n",
    "num_equipos = 5\n",
    "t_equipos_a = mat.comb(num_alumnos, num_equipos)\n",
    "print(\"Equipo de cinco personas: \", t_equipos_a)"
   ]
  },
  {
   "cell_type": "markdown",
   "metadata": {},
   "source": [
    "b) ¿Cuántos equipos pueden formarse si debe haber una chica?\n",
    "\n",
    "En este caso aplicamos 2 combinaciones:\n",
    "$$\n",
    "\\begin{align}\n",
    "    _13C_1\\\\\n",
    "    _12C_4 \n",
    "\\end{align} \n",
    "$$\n",
    "\n",
    "La primera representa el número de formas de seleccionar 1 chica de entre las 13 chicas\n",
    "\n",
    "y la segunda representa el número de formas de seleccionar 4 chicos de entre los 12 chicos.\n",
    "\n",
    "- *Primera*\n",
    "$$\n",
    "\\begin{align}\n",
    "    _13C_1 &= \\dfrac{13!}{1!(13 - 1)!}\\\\\n",
    "    _13C_1 &= \\dfrac{13 * 12!}{1 * 12!} \\\\\n",
    "    _13C_1 &= \\dfrac{13}{1}\\\\\n",
    "    _13C_1 &= 13\n",
    "\\end{align} \n",
    "$$\n",
    "\n",
    "- *Segunda*\n",
    "$$\n",
    "\\begin{align}\n",
    "    _12C_4 &= \\dfrac{12!}{4!(12 - 4)!}\\\\\n",
    "    _12C_4 &= \\dfrac{12 * 11 * 10 * 9 * 8!}{4 * 3 * 2 * 1 * 8!} \\\\\n",
    "    _12C_4 &= \\dfrac{11880}{24}\\\\\n",
    "    _12C_4 &= 495\n",
    "\\end{align} \n",
    "$$\n",
    "\n",
    "Se multiplica estos dos resultados para obtener el número total de equipos:\n",
    "\n",
    "$$\n",
    "\\begin{align}\n",
    "13 \\times 495 = 6435\\end{align}\n",
    "$$\n",
    "\n",
    "Al multiplicar ambos resultados, estamos contabilizando todas las posibles combinaciones de seleccionar 1 chica y\n",
    "4 chicos para formar un equipo de 5 personas, esto  da el número total de equipos posibles que cumplen con la condición de tener al menos una chica."
   ]
  },
  {
   "cell_type": "code",
   "execution_count": 8,
   "metadata": {},
   "outputs": [
    {
     "name": "stdout",
     "output_type": "stream",
     "text": [
      "Equipos con una chica:  6435\n"
     ]
    }
   ],
   "source": [
    "# Implementacion de la solucion del inciso b) del ejercicio 16\n",
    "n_chicas = 13\n",
    "n_chicos = 12\n",
    "t_equipos_b = mat.comb(n_chicas, 1) * mat.comb(n_chicos, num_equipos - 1)\n",
    "print(\"Equipos con una chica: \", t_equipos_b)\n"
   ]
  },
  {
   "cell_type": "markdown",
   "metadata": {},
   "source": [
    "¿Cuántos equipos pueden formarse si debe haber dos chicas?\n",
    "\n",
    "Igualmente aplicamos 2 combinaciones:\n",
    "$$\n",
    "\\begin{align}\n",
    "    _13C_2\\\\\n",
    "    _12C_3 \n",
    "\\end{align} \n",
    "$$\n",
    "\n",
    "La primera representa el número de formas de seleccionar 2 chicas de entre las 13 chicas\n",
    "\n",
    "y la segunda representa el número de formas de seleccionar 3 chicos de entre los 12 chicos.\n",
    "\n",
    "- *Primera*\n",
    "$$\n",
    "\\begin{align}\n",
    "    _13C_2 &= \\dfrac{13!}{2!(13 - 2)!}\\\\\n",
    "    _13C_2 &= \\dfrac{13 * 12 * 11!}{2 * 1 * 11!} \\\\\n",
    "    _13C_2 &= \\dfrac{156}{2}\\\\\n",
    "    _13C_2 &= 78\n",
    "\\end{align} \n",
    "$$\n",
    "\n",
    "- *Segunda*\n",
    "$$\n",
    "\\begin{align}\n",
    "    _12C_4 &= \\dfrac{12!}{3!(12 - 3)!}\\\\\n",
    "    _12C_4 &= \\dfrac{12 * 11 * 10 * 9!}{3 * 2 * 1 * 9!} \\\\\n",
    "    _12C_4 &= \\dfrac{1320}{6}\\\\\n",
    "    _12C_4 &= 220\n",
    "\\end{align} \n",
    "$$\n",
    "\n",
    "El número total de equipos es el resultado de multiplicar el número de formas de seleccionar las 2 chicas por el número de formas de seleccionar los 3 chicos restantes.\n",
    "Esto da el número total de equipos posibles que cumplen con la condición de tener al menos dos chicas.\n",
    "\n",
    "$$\n",
    "\\begin{align}\n",
    "78 \\times 220 &= 17160\n",
    "\\end{align}\n",
    "$$"
   ]
  },
  {
   "cell_type": "code",
   "execution_count": 9,
   "metadata": {},
   "outputs": [
    {
     "name": "stdout",
     "output_type": "stream",
     "text": [
      "Equipos con dos chicas:  17160\n"
     ]
    }
   ],
   "source": [
    "# Implementacion de la solucion del inciso c) del ejercicio 16\n",
    "t_equipos_c = mat.comb(n_chicas, 2) * mat.comb(n_chicos, num_equipos - 2)\n",
    "print(\"Equipos con dos chicas: \", t_equipos_c)"
   ]
  },
  {
   "cell_type": "markdown",
   "metadata": {},
   "source": [
    "d) Determina las probabilidades correspondientes a los incisos anteriores.\n",
    "\n",
    "La probabilidad se obtine de los casos favorables / caso total, entonces:\n",
    "$$\n",
    "\\begin{align}\n",
    "    \\dfrac{53130}{53130} &= 1\\\\\n",
    "    \\dfrac{6435}{53130} &= 0.12\\\\\n",
    "    \\dfrac{17160}{53130} &= 0.32\\\\\n",
    "\\end{align} \n",
    "$$"
   ]
  },
  {
   "cell_type": "code",
   "execution_count": 10,
   "metadata": {},
   "outputs": [
    {
     "name": "stdout",
     "output_type": "stream",
     "text": [
      "Probabilidad: \n",
      "1.0 , 0.12111801242236025 , 0.32298136645962733\n"
     ]
    }
   ],
   "source": [
    "# Implementacion de la solucion del inciso d) del ejercicio 16\n",
    "total = mat.comb(num_alumnos, num_equipos)\n",
    "po_a = t_equipos_a / total \n",
    "po_b = t_equipos_b / total \n",
    "po_c = t_equipos_c / total \n",
    "\n",
    "print(\"Probabilidad: \")\n",
    "print(po_a, \",\", po_b, \",\", po_c)"
   ]
  }
 ],
 "metadata": {
  "kernelspec": {
   "display_name": "Python 3",
   "language": "python",
   "name": "python3"
  },
  "language_info": {
   "codemirror_mode": {
    "name": "ipython",
    "version": 3
   },
   "file_extension": ".py",
   "mimetype": "text/x-python",
   "name": "python",
   "nbconvert_exporter": "python",
   "pygments_lexer": "ipython3",
   "version": "3.12.4"
  }
 },
 "nbformat": 4,
 "nbformat_minor": 2
}
