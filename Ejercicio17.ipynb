{
 "cells": [
  {
   "cell_type": "code",
   "execution_count": 1,
   "metadata": {},
   "outputs": [],
   "source": [
    "import math as mat"
   ]
  },
  {
   "cell_type": "markdown",
   "metadata": {},
   "source": [
    "## Ejercicio 17\n",
    "\n",
    "Control de calidad. Se tiene una caja con 24 latas y se sabe que dos están contaminadas. Se van\n",
    "a seleccionar tres latas al azar para someterlas a una prueba de control de calidad, es decir, para\n",
    "medir los estándares de calidad de la empresa.\n",
    "\n",
    "a) Dado que tenemos 24 latas y debemos formar grupos de 3 latas aplicaremos la formula de permutacion: \n",
    "\n",
    "$$\n",
    "\\begin{align}\n",
    "    _nC_r &= \\dfrac{n!}{(n - r)!r!}\\\\ \n",
    "    _{24}C_3 &= \\dfrac{24!}{(24 - 3)!3!}\\\\\n",
    "    _{24}C_3 &= \\dfrac{24!}{21!} = \\dfrac{6.20\\times10^{23}}{5.10\\times10^{19}\\times6}\\\\\n",
    "    _{24}C_3 &= 2024\n",
    "\\end{align}\n",
    "$$\n",
    "\n",
    "Por lo tanto se pueden formar *2024* grupos de 3 latas."
   ]
  },
  {
   "cell_type": "code",
   "execution_count": 2,
   "metadata": {},
   "outputs": [
    {
     "name": "stdout",
     "output_type": "stream",
     "text": [
      "a) Número de combinaciones de tres latas que pueden hacerse: 2024\n"
     ]
    }
   ],
   "source": [
    "# Implementacion de la solucion del inciso a) del ejercicio 17\n",
    "t_combinaciones= mat.comb(24, 3)\n",
    "print(\"a) Número de combinaciones de tres latas que pueden hacerse:\", t_combinaciones)"
   ]
  },
  {
   "cell_type": "markdown",
   "metadata": {},
   "source": [
    "b)Sabemos que tenemos 24 latas y que debe de haber una lata contaminada en nuestras combinaciones \n",
    "para poder resolverlo necesitaremos de dos combinaciones, las cuales son:\n",
    "\n",
    "$$\n",
    "\\begin{align}\n",
    "_nC_r &= \\dfrac{n!}{(n - r)!r!}\\\\ \n",
    "_{2}C_1 &= \\dfrac{2!}{(2 - 1)!1!}\\\\\n",
    "_{2}C_1 &= \\dfrac{2!}{1} = \\dfrac{2}{1}\\\\\n",
    "_{2}C_1 &= 2\n",
    "\\end{align}\n",
    "$$\n",
    "En esta primera operacion realizamos una combinacion, en donde n es igual a dos(siendo las dos latas contaminadas) \n",
    "y r que es igual a 1 (siendo el numero de combinaciones sobre el cual va a operar n),\n",
    "esta combinacion obtendremos el numero total de formas de combinar estos dos numero.\n",
    "$$\n",
    "\\begin{align}\n",
    "_nC_r &= \\dfrac{n!}{(n - r)!r!}\\\\ \n",
    "_{22}C_2 &= \\dfrac{22!}{(22 - 2)!2!}\\\\\n",
    "_{22}C_2 &= \\dfrac{22!}{40!} = \\dfrac{1.12\\times10^{21}}{8.15\\times10^{47}}\\\\\n",
    "_{22}C_2 &= 231\n",
    "\\end{align}\n",
    "$$\n",
    "Esta segunda combinacion la haremos con 22 siendo n y 2 siendo r, \n",
    "con esta combinacion obtendremos el total de veces que se pueden combinar estos dos numero.\n",
    "\n",
    "Ya que tenemos estos dos resultados nuestra siguiente operacion a realizar sera multiplicar ambos resultados\n",
    "para poder obtener el total de veces que se pueden obtener un conjunto de tres latas con una contaminada \n",
    "$$\n",
    "\\begin{align}\n",
    "231\\times2 = 462\\\\\n",
    "\\end{align}\n",
    "$$\n",
    "\n",
    "Una vez tenemos el numero total de veces que se pueden obtener un conjunto de tres latas con una contaminada \n",
    "usaremos la formula para la probabilidad, la cual es: \n",
    "$$\n",
    "\\begin{align}\n",
    "P(A) = \\frac{\\text{Número de casos favorables}}{\\text{Total de casos posibles}}\n",
    "\\end{align}\n",
    "$$\n",
    "\n",
    "En donde nuestros Números de caso favorables seran los conjuntos de tres latas con una contamina \n",
    "y nuestros Total de casos posibles son nuestros conjuntos de tres latas.\n",
    "$$\n",
    "\\begin{align}\n",
    "P(A) = \\frac{\\text{462}}{\\text{2024}}\n",
    "\\end{align}\n",
    "$$\n",
    "\n",
    "Dando como resultado la probabilidad de que se seleccione una lata contaminada.\n",
    "$$\n",
    "\\begin{align}\n",
    "P(A) = \\frac{\\text{462}}{\\text{2024}} = 0.228\n",
    "\\end{align}\n",
    "$$"
   ]
  },
  {
   "cell_type": "code",
   "execution_count": 3,
   "metadata": {},
   "outputs": [
    {
     "name": "stdout",
     "output_type": "stream",
     "text": [
      "b) Probabilidad de seleccionar una lata contaminada: 0.228\n"
     ]
    }
   ],
   "source": [
    "# Implementacion de la solucion del inciso b) del ejercicio 17\n",
    "comb_1_conta= mat.comb(2, 1) * mat.comb(22, 2)\n",
    "p_1_conta = round(comb_1_conta / t_combinaciones, 3)\n",
    "print(\"b) Probabilidad de seleccionar una lata contaminada:\", p_1_conta)"
   ]
  },
  {
   "cell_type": "markdown",
   "metadata": {},
   "source": [
    "c)Sabemos que tenemos 24 latas y que debe de haber por lo menos una lata contaminada en nuestras combinaciones \n",
    "por lo que podemos deducir que podemos tener una lata contaminada o dos latas contaminadas\n",
    "para poder resolverlo usaremos parte de la logica del inciso anterior\n",
    "necesitaremos dos combinaciones las cuales son:\n",
    "\n",
    "$$\n",
    "\\begin{align}\n",
    "_nC_r &= \\dfrac{n!}{(n - r)!r!}\\\\ \n",
    "_{2}C_2 &= \\dfrac{2!}{(2 - 2)!2!}\\\\\n",
    "_{2}C_2 &= \\dfrac{2!}{2} = \\dfrac{2}{2}\\\\\n",
    "_{2}C_2 &= 1\n",
    "\\end{align}\n",
    "$$\n",
    "Como podemos observar en esta combinacion usaremos 2 que es n y 2 que es r,\n",
    "la usaremos de esta forma ya que necesitamos obtener el numero total de combinaciones cuando tenemos dos latas contaminadas\n",
    "esta combinacion nos dara el numero total de conjuntos de 2 latas contaminadas.\n",
    "\n",
    "$$\n",
    "\\begin{align}\n",
    "_nC_r &= \\dfrac{n!}{(n - r)!r!}\\\\ \n",
    "_{22}C_1 &= \\dfrac{22!}{(22 - 1)!1!}\\\\\n",
    "_{22}C_1 &= \\dfrac{22!}{21!} = \\dfrac{1.12\\times10^{21}}{5.10\\times10^{19}}\\\\\n",
    "_{22}C_1 &= 22\n",
    "\\end{align}\n",
    "$$\n",
    "Esta segunda combinacion la haremos con 22 siendo n y 1 siendo r, \n",
    "la usaremos de esta forma porque ya tenemos dos latas de las tres que necesitamos para los conjuntos \n",
    "por eso solo lo combinamos con 1, \n",
    "con esta combinacion obtendremos el total de conjuntos de 22 latas sobre uno.\n",
    "\n",
    "Con estas dos combinaciones y sabiendo que la resolucion de este inciso es parecido al anterior usamos su misma logica\n",
    "pero con una operacion extra, donde multiplicaremos los resultados como en el inciso anterior\n",
    "aunque aqui usaremos el resultado de la multiplicaion del inciso anterior y lo sumaremos con el resultado de la multiplicacion de este inciso. \n",
    "$$\n",
    "\\begin{align}\n",
    "462 + 22 = 484\n",
    "\\end{align}\n",
    "$$\n",
    "\n",
    "Ya que tenemos este resultado seguiremos con el procedimiento del inciso anterior, el cual consiste en usar la formula de la probabilidad\n",
    "la cual nos da un resultados de:\n",
    "$$\n",
    "\\begin{align}\n",
    "P(A) = \\frac{\\text{484}}{\\text{2024}} = 0.239\n",
    "\\end{align}\n",
    "$$"
   ]
  },
  {
   "cell_type": "code",
   "execution_count": 4,
   "metadata": {},
   "outputs": [
    {
     "name": "stdout",
     "output_type": "stream",
     "text": [
      "c) Probabilidad de seleccionar al menos una lata contaminada: 0.239\n"
     ]
    }
   ],
   "source": [
    "# Implementacion de la solucion del inciso c) del ejercicio 17\n",
    "comb_2_conta = mat.comb(2, 2) * mat.comb(22, 1)\n",
    "casos_favo1= comb_1_conta + comb_2_conta\n",
    "p_total = round(casos_favo1 / t_combinaciones, 3)\n",
    "print(\"c) Probabilidad de seleccionar al menos una lata contaminada:\", p_total)"
   ]
  },
  {
   "cell_type": "markdown",
   "metadata": {},
   "source": [
    "d)\n",
    "Sabemos que tenemos 24 latas y que no debemos tener ni una lata contaminada en nuestras combinaciones \n",
    "para poder resolverlo podemos usar parte de la logica de los incisos anteriores\n",
    "necesitaremos una combinacion:\n",
    "$$\n",
    "\\begin{align}\n",
    "_nC_r &= \\dfrac{n!}{(n - r)!r!}\\\\ \n",
    "_{22}C_3 &= \\dfrac{22!}{(22 - 3)!3!}\\\\\n",
    "_{22}C_3 &= \\dfrac{22!}{9!} = \\dfrac{1.12\\times10^{21}}{362880}\\\\\n",
    "_{22}C_3 &= 1540\n",
    "\\end{align}\n",
    "$$\n",
    "\n",
    "Como podemos observar en esta combinacion usaremos 22 que es n y 2 que es r,\n",
    "la usaremos de esta forma ya que necesitamos obtener el numero total de combinaciones cuando no tenemos niguna lata contaminada \n",
    "esta combinacion nos dara el numero total de conjuntos de 2 latas contaminadas.\n",
    "\n",
    "Una vez tenemos este resultado usaremos la formula de la probabilidad como en los incisos anteriores \n",
    "dando como resultado:\n",
    "$$\n",
    "\\begin{align}\n",
    "P(A) = \\frac{\\text{1540}}{\\text{2024}} = 0.761\n",
    "\\end{align}\n",
    "$$"
   ]
  },
  {
   "cell_type": "code",
   "execution_count": 5,
   "metadata": {},
   "outputs": [
    {
     "name": "stdout",
     "output_type": "stream",
     "text": [
      "c) Probabilidad de no seleccionar ni una lata contaminada: 0.761\n"
     ]
    }
   ],
   "source": [
    "# Implementacion de la solucion del inciso d) del ejercicio 17\n",
    "camn = mat.comb(22, 3)\n",
    "p_total = round(camn / t_combinaciones, 3)\n",
    "print(\"c) Probabilidad de no seleccionar ni una lata contaminada:\", p_total)"
   ]
  }
 ],
 "metadata": {
  "kernelspec": {
   "display_name": "Python 3",
   "language": "python",
   "name": "python3"
  },
  "language_info": {
   "codemirror_mode": {
    "name": "ipython",
    "version": 3
   },
   "file_extension": ".py",
   "mimetype": "text/x-python",
   "name": "python",
   "nbconvert_exporter": "python",
   "pygments_lexer": "ipython3",
   "version": "3.12.4"
  }
 },
 "nbformat": 4,
 "nbformat_minor": 2
}
