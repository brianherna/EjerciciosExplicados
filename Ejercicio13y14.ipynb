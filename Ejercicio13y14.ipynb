{
 "cells": [
  {
   "cell_type": "code",
   "execution_count": 2,
   "metadata": {},
   "outputs": [],
   "source": [
    "import math as mat"
   ]
  },
  {
   "cell_type": "markdown",
   "metadata": {},
   "source": [
    "## Ejercicio 13 y 14"
   ]
  },
  {
   "cell_type": "markdown",
   "metadata": {},
   "source": [
    "# Ejercicio 13\n",
    "\n",
    "Cultura.Una persona tiene un libro de cada uno de los autores siguientes: Mario Vargas Llosa,  \n",
    "Alberto Ruy Sánchez, Gabriel García Márquez, Günther Grass, Patrick Süskind, Heinrich Böll,  \n",
    "Arturo Pérez-Reverte y Camilo José Cela. Como aún no los ha leído, quiere ponerlos en una  \n",
    "repisa cerca de su cama. De acuerdo con esto, determina:\n",
    "\n",
    "a) ¿De cuántas formas puede acomodar los libros sobre la repisa?  \n",
    "\n",
    "Número total de formas posibles de ordenar 8 libros:\n",
    "\n",
    "El número total de permutaciones de 8 libros se calcula como \\( 8! \\):\n",
    "\n",
    "$$ 8! = 8 \\times 7 \\times 6 \\times 5 \\times 4 \\times 3 \\times 2 \\times 1 = 40320 $$\n",
    "\n",
    "Esto significa que hay 40320 formas diferentes de ordenar los 8 libros.\n",
    "\n"
   ]
  },
  {
   "cell_type": "code",
   "execution_count": 3,
   "metadata": {},
   "outputs": [
    {
     "name": "stdout",
     "output_type": "stream",
     "text": [
      "a) Número total de formas sin restricciones: 40320\n"
     ]
    }
   ],
   "source": [
    "# Implementamos la solución del inciso a) del ejercicio 13:\n",
    "resultado = mat.factorial(8)\n",
    "print(\"a) Número total de formas sin restricciones:\", resultado)"
   ]
  },
  {
   "cell_type": "markdown",
   "metadata": {},
   "source": [
    "b) ¿De cuántas maneras puede ordenarlos si quiere que los libros de autores latinoamericanos  \n",
    "estén juntos?  \n",
    "\n",
    "Para calcular en cuantas maneras en que los autores latinoamericanos (3 autores) están juntos como un bloque, consideramos estos 3 autores como un bloque único. Luego calculamos las permutaciones de estos 6 bloques en total:\n",
    "\n",
    "$$  \\text{Maneras (b)} = 6! \\times 3! $$\n",
    "\n",
    "- \\( 6! \\) representa las permutaciones de los 6 bloques restantes (3 autores latinoamericanos como un bloque y los otros 5 autores individuales).\n",
    "- \\( 3! \\) representa las permutaciones dentro del bloque de autores latinoamericanos.\n",
    "\n",
    "Calculamos \\( 6! \\) y \\( 3! \\):\n",
    "\n",
    "$$ 6! = 6 \\times 5 \\times 4 \\times 3 \\times 2 \\times 1 = 720 $$\n",
    "\n",
    "$$ 3! = 3 \\times 2 \\times 1 = 6 $$\n",
    "\n",
    "Entonces:\n",
    "\n",
    "$$ \\text{Maneras (b)} = 720 \\times 6 = 4320 $$"
   ]
  },
  {
   "cell_type": "code",
   "execution_count": 4,
   "metadata": {},
   "outputs": [
    {
     "name": "stdout",
     "output_type": "stream",
     "text": [
      "b) Maneras en que los autores latinoamericanos están juntos: 4320\n"
     ]
    }
   ],
   "source": [
    "# Implementamos la solución del inciso b) del ejercicio 13:\n",
    "Latinos = mat.factorial(6) * mat.factorial(3)\n",
    "print(\"b) Maneras en que los autores latinoamericanos están juntos:\", Latinos)"
   ]
  },
  {
   "cell_type": "markdown",
   "metadata": {},
   "source": [
    "c)¿De cuántas formas puede acomodarlos, si los autores latinoamericanos deben estar juntos,  \n",
    "así como los autores alemanes y los españoles también? \n",
    "\n",
    "Para este caso, tenemos 3 grupos de autores (latinoamericanos, españoles y alemanes), cada uno debe estar junto como un bloque separado. Calculamos las permutaciones de estos bloques y dentro de cada bloque:\n",
    "\n",
    "$$ \\text{Formas (c)} = 3! \\times 2! \\times 3! \\times 3! $$\n",
    "\n",
    "- \\( 3! \\) representa las permutaciones de los 3 bloques (latinoamericanos, españoles, alemanes).\n",
    "- \\( 2! \\) representa las permutaciones dentro del bloque de autores españoles.\n",
    "- \\( 3! \\) representa las permutaciones dentro del bloque de autores alemanes.\n",
    "\n",
    "Calculamos \\( 3! \\) y \\( 2! \\):\n",
    "\n",
    "$$ 3! = 6 $$\n",
    "$$ 2! = 2 $$\n",
    "\n",
    "Entonces:\n",
    "\n",
    "$$ \\text{Formas (c)} = 6 \\times 2 \\times 6 \\times 6 = 432 $$"
   ]
  },
  {
   "cell_type": "code",
   "execution_count": 5,
   "metadata": {},
   "outputs": [
    {
     "name": "stdout",
     "output_type": "stream",
     "text": [
      "c) Formas en que los autores latinoamericanos, españoles y alemanes están juntos: 432\n"
     ]
    }
   ],
   "source": [
    "# Implementamos la solución del inciso c) del ejercicio 13:\n",
    "total = mat.factorial(3) * mat.factorial(2) * mat.factorial(3) * mat.factorial(3)\n",
    "print(\"c) Formas en que los autores latinoamericanos, españoles y alemanes están juntos:\", total)"
   ]
  },
  {
   "cell_type": "markdown",
   "metadata": {},
   "source": [
    "# Ejercicio 14\n",
    "\n",
    "Finanzas. Se va a formar un portafolio de inversión de cuatro instrumentos financieros a partir\n",
    "de cinco de renta fija y seis de renta variable.\n",
    "\n",
    "¿De cuántas maneras podría formarse el portafolio\n",
    "si:\n",
    "\n",
    "a) No hay restricciones?\n",
    "\n",
    "Para calcular el número de maneras de formar un portafolio seleccionando 4 instrumentos de un total de 11 disponibles, utilizamos combinaciones:\n",
    "\n",
    "$$ \\text{Manera} = \\binom{11}{4} $$\n",
    "\n",
    "Esto nos da todas las formas posibles de seleccionar 4 instrumentos de 11.\n",
    "\n"
   ]
  },
  {
   "cell_type": "code",
   "execution_count": 6,
   "metadata": {},
   "outputs": [
    {
     "name": "stdout",
     "output_type": "stream",
     "text": [
      "a) Número de maneras de formar el portafolio:  330\n"
     ]
    }
   ],
   "source": [
    "# Implementamos la solución del inciso a) del ejercicio 14:\n",
    "Manera = mat.comb(11, 4)\n",
    "print(\"a) Número de maneras de formar el portafolio: \",Manera)"
   ]
  },
  {
   "cell_type": "markdown",
   "metadata": {},
   "source": [
    "b) Debe haber dos instrumentos de renta fija y dos de renta variable?\n",
    "\n",
    "\n",
    "Aquí, necesitamos contar las combinaciones donde exactamente 2 instrumentos son de renta fija y 2 son de renta variable:\n",
    "\n",
    "$$ \\text{Fijas y Variables} = \\binom{5}{2} \\times \\binom{6}{2} $$\n",
    "\n",
    "Esto implica seleccionar 2 instrumentos de renta fija de entre 5 posibles y 2 instrumentos de renta variable de entre 6 posibles.\n"
   ]
  },
  {
   "cell_type": "code",
   "execution_count": 7,
   "metadata": {},
   "outputs": [
    {
     "name": "stdout",
     "output_type": "stream",
     "text": [
      "b) Número de combinaciones con 2 instrumentos de renta fija y 2 de renta variable:  150\n"
     ]
    }
   ],
   "source": [
    "# Implementamos la solución del inciso b) del ejercicio 14:\n",
    "fijas_renta = mat.comb(5,2) * mat.comb(6,2)\n",
    "\n",
    "print(\"b) Número de combinaciones con 2 instrumentos de renta fija y 2 de renta variable: \", fijas_renta)"
   ]
  },
  {
   "cell_type": "markdown",
   "metadata": {},
   "source": [
    "c) No debe haber ningún instrumento de renta fija?\n",
    "\n",
    "En este caso, ningún instrumento debe ser de renta fija, por lo tanto seleccionamos todos los instrumentos de renta variable:\n",
    "\n",
    "$$ \\text{No Fijas} = \\binom{5}{0} \\times \\binom{6}{4} $$\n",
    "\n",
    "Esto significa elegir 0 instrumentos de renta fija de entre 5 posibles y 4 instrumentos de renta variable de entre 6 posibles."
   ]
  },
  {
   "cell_type": "code",
   "execution_count": 10,
   "metadata": {},
   "outputs": [
    {
     "name": "stdout",
     "output_type": "stream",
     "text": [
      "c) Número de combinaciones sin instrumentos de renta fija:  15\n"
     ]
    }
   ],
   "source": [
    "# Implementamos la solución del inciso c) del ejercicio 14:\n",
    "No_fijas = mat.comb(5, 0) * mat.comb(6, 4)\n",
    "print(\"c) Número de combinaciones sin instrumentos de renta fija: \", No_fijas)"
   ]
  },
  {
   "cell_type": "markdown",
   "metadata": {},
   "source": [
    "d) Debe haber tres instrumentos de renta fija?\n",
    "\n",
    "Para este caso, se requiere que exactamente 3 instrumentos sean de renta fija:\n",
    "\n",
    "$$ \\text{Fija} = \\binom{5}{3} \\times \\binom{6}{1} $$\n",
    "\n",
    "Esto implica seleccionar 3 instrumentos de renta fija de entre 5 posibles y 1 instrumento de renta variable de entre 6 posibles."
   ]
  },
  {
   "cell_type": "code",
   "execution_count": 11,
   "metadata": {},
   "outputs": [
    {
     "name": "stdout",
     "output_type": "stream",
     "text": [
      "d) Número de combinaciones con 3 instrumentos de renta fija: 60\n"
     ]
    }
   ],
   "source": [
    "# Implementamos la solución del inciso c) del ejercicio 14:\n",
    "\n",
    "fija = mat.comb(5,3) * mat.comb(6, 1)\n",
    "print(\"d) Número de combinaciones con 3 instrumentos de renta fija:\", fija)"
   ]
  },
  {
   "cell_type": "markdown",
   "metadata": {},
   "source": [
    "e) Calcula las probabilidades para los incisos anteriores."
   ]
  },
  {
   "cell_type": "code",
   "execution_count": 12,
   "metadata": {},
   "outputs": [
    {
     "name": "stdout",
     "output_type": "stream",
     "text": [
      "La probabilidad del inciso (a) es = 1.0 %\n",
      "La probabilidad del inciso (b) es = 0.45454545454545453 %\n",
      "La probabilidad del inciso (c) es = 0.045454545454545456 %\n",
      "La probabilidad del inciso (d) es = 0.18181818181818182 %\n"
     ]
    }
   ],
   "source": [
    "# Implementamos la solución del inciso d) del ejercicio 14:\n",
    "probabilidad_A = Manera / Manera\n",
    "probabilidad_B = fijas_renta / Manera\n",
    "probabilidad_C = No_fijas / Manera\n",
    "probabilidad_D = fija / Manera\n",
    "print(\"La probabilidad del inciso (a) es =\", probabilidad_A, \"%\")\n",
    "print(\"La probabilidad del inciso (b) es =\",probabilidad_B, \"%\")\n",
    "print(\"La probabilidad del inciso (c) es =\",probabilidad_C, \"%\")\n",
    "print(\"La probabilidad del inciso (d) es =\",probabilidad_D, \"%\")"
   ]
  }
 ],
 "metadata": {
  "kernelspec": {
   "display_name": "Python 3",
   "language": "python",
   "name": "python3"
  },
  "language_info": {
   "codemirror_mode": {
    "name": "ipython",
    "version": 3
   },
   "file_extension": ".py",
   "mimetype": "text/x-python",
   "name": "python",
   "nbconvert_exporter": "python",
   "pygments_lexer": "ipython3",
   "version": "3.12.4"
  }
 },
 "nbformat": 4,
 "nbformat_minor": 2
}
