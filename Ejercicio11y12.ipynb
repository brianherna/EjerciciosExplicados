{
 "cells": [
  {
   "cell_type": "code",
   "execution_count": 4,
   "metadata": {},
   "outputs": [],
   "source": [
    "import math as mat"
   ]
  },
  {
   "cell_type": "markdown",
   "metadata": {},
   "source": [
    "## Ejercicio 11 y 12 "
   ]
  },
  {
   "cell_type": "markdown",
   "metadata": {},
   "source": [
    "# Ejercicio 11\n",
    "\n",
    "Parque vehicular. La Ciudad de México tiene placas de automóviles con tres números seguidos\n",
    "por tres letras, es decir, son placas del tipo 999-AAA. Sin embargo, no pueden empezar con 0\n",
    "(cero) ni se utilizan las letras I, O, Q y Ñ.\n",
    "\n",
    "a) ¿Cuántas placas diferentes son posibles?\n",
    "\n",
    "Dado que tenemos que los tres primeros caracteres son dígitos de 9 y no pueden empezar en 0\n",
    "y los últimos caracteres son letras del alfabeto, excluyendo I, O, Q y Ñ; \n",
    "Entonces tenemos que\n",
    "\n",
    "$$\n",
    "\\begin{align}\n",
    "\\text{Combinaciones de numeros} = 9 \\times 10 \\times 10 = 900\n",
    "\\end{align}\n",
    "$$\n",
    "\n",
    "- Y lo mismo podemos decir para las letras:\n",
    "\n",
    "$$\n",
    "\\begin{align}\n",
    "\\text{Combinaciones de letras} = 23 \\times 23 \\times 23 = 23^3 = 12167\n",
    "\\end{align}\n",
    "$$"
   ]
  },
  {
   "cell_type": "code",
   "execution_count": 1,
   "metadata": {},
   "outputs": [
    {
     "name": "stdout",
     "output_type": "stream",
     "text": [
      "a) Hay un total de diferentes placas posibles de: 10950300.\n"
     ]
    }
   ],
   "source": [
    "# Implementacion de la solución del inciso a) del ejercicio 11\n",
    "TotalPlacas = 900 * 12167\n",
    "print(f'a) Hay un total de diferentes placas posibles de: {TotalPlacas}.')"
   ]
  },
  {
   "cell_type": "markdown",
   "metadata": {},
   "source": [
    "b) ¿Cuántas placas diferentes terminan en vocal?\n",
    "\n",
    "Las vocales permitidas son A, E, U.\n",
    "Para que la placa termine en vocal, la última letra debe ser una de estas 3 opciones.\n",
    "Referente a la combinación de las letras, tenemos que: \n",
    "Las primeras dos letras tienen 23 opciones cada una.\n",
    "La tercera letra tiene 3 opciones (A, E, U).\n",
    "Por lo tanto, el número total de combinaciones posibles para las letras es:\n",
    "\n",
    "$$\n",
    "\\begin{align}\n",
    "\\text{Combinaciones de letras que terminan en vocal} = 23 \\times 23 \\times 3 = 1587\n",
    "\\end{align}\n",
    "$$"
   ]
  },
  {
   "cell_type": "code",
   "execution_count": 2,
   "metadata": {},
   "outputs": [
    {
     "name": "stdout",
     "output_type": "stream",
     "text": [
      "b) Hay un total placas que terminan en vocal de: 1428300\n"
     ]
    }
   ],
   "source": [
    "# Implementando la solución del inciso b) del ejercicio 11:\n",
    "TotalPlacasVocal = 900 * 1587\n",
    "print(f'b) Hay un total placas que terminan en vocal de: {TotalPlacasVocal}')"
   ]
  },
  {
   "cell_type": "markdown",
   "metadata": {},
   "source": [
    "c) ¿Cuál es la probabilidad de que una placa, elegida al azar, sea impar?\n",
    "\n",
    "- El primer dígito tiene 9 opciones (1-9).\n",
    "- El segundo dígito tiene 10 opciones (0-9).\n",
    "- El tercer dígito tiene 5 opciones (1, 3, 5, 7, 9).\n",
    "- Entonces, el número total de combinaciones posibles para los números es:\n",
    "\n",
    "$$\n",
    "\\begin{align}\n",
    "\\text{Combinaciones posibles} = 9 \\times 10 \\times 5 = 450\n",
    "\\end{align}\n",
    "$$\n",
    "\n",
    "Ahora, el número total de placas impares tendría ue ser: \n",
    "​$$\n",
    "\\begin{align}\n",
    "\\text{Total de placas impares} = 450 \\times 12167 = 5475150\n",
    "\\end{align}\n",
    "$$"
   ]
  },
  {
   "cell_type": "code",
   "execution_count": 3,
   "metadata": {},
   "outputs": [
    {
     "name": "stdout",
     "output_type": "stream",
     "text": [
      "c) La probabilidad de ue una placa elegida al azar sea impar es de: 0.5\n"
     ]
    }
   ],
   "source": [
    "# Implementamos la solución del inciso c) del ejercicio 11:\n",
    "# Probabilidad de que una placa sea impar: Total de placas impares/total de placas\n",
    "ProbPlacaImpar = 5475150 / 10950300\n",
    "print(f'c) La probabilidad de ue una placa elegida al azar sea impar es de: {ProbPlacaImpar}')"
   ]
  },
  {
   "cell_type": "markdown",
   "metadata": {},
   "source": [
    "# Ejercicio 12\n",
    "\n",
    "Servicios restauranteros. Una cadena de hamburguesas anuncia que se ofrecen 512 maneras de\n",
    "pedir una hamburguesa. Un cliente puede elegir cualquiera de estos ingredientes: cátsup, mos-\n",
    "taza, mayonesa, aderezo de la casa, cebolla, pepinillos, jitomate, tocino y lechuga. \n",
    "\n",
    "¿Crees que lo que afirma la empresa sea cierto? Justifica tu respuesta.\n",
    "\n",
    "Dado que un cliente puede elegir entre los ingredientes cátsup, mostaza, mayonesa,\n",
    "aderezo de la casa, cebolla, pepinillos, jitomate, tocino y lechuga\n",
    "Tenemos que la cantidad total de ingredientes es 9\n",
    "Cada ingrediente tiene 2 opciones (incluir o no incluir), y hay 9 ingredientes. Por lo tanto,\n",
    "el número total de combinaciones deberá ser: 2^9\n",
    "\n",
    "$$\n",
    "\\begin{align}\n",
    "\\text{Numero total de combinaciones} = 2^9 = 512\n",
    "\\end{align}\n",
    "$$\n",
    "\n",
    "Y podemos comprobar el cálcuo de la siguiente manera\n",
    "$$\n",
    "\\begin{align}\n",
    "\\text{Numero total de combinaciones} = 2^9 = 2*2*2*2*2*2*2*2*2\n",
    "\\end{align}\n",
    "$$\n",
    "\n",
    "Concluyo que, efectivamente, hay 512 maneras de pedir una hamburguesa seleccionando entre los 9 ingredientes antes mencionados, ya que cada ingrediente puede estar incluido o no, y la operación 2^9 nos arrojó 512\n"
   ]
  }
 ],
 "metadata": {
  "kernelspec": {
   "display_name": "Python 3",
   "language": "python",
   "name": "python3"
  },
  "language_info": {
   "codemirror_mode": {
    "name": "ipython",
    "version": 3
   },
   "file_extension": ".py",
   "mimetype": "text/x-python",
   "name": "python",
   "nbconvert_exporter": "python",
   "pygments_lexer": "ipython3",
   "version": "3.12.4"
  }
 },
 "nbformat": 4,
 "nbformat_minor": 2
}
